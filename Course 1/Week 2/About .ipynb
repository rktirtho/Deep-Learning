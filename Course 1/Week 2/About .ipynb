{
 "cells": [
  {
   "cell_type": "markdown",
   "metadata": {},
   "source": [
    "Learn to set up a machine learning problem with a neural network mindset. Learn to use vectorization to speed up your models.\n",
    "\n",
    "**Key Concepts**\n",
    "\n",
    "* Build a logistic regression model, structured as a shallow neural network\n",
    "* Implement the main steps of an ML algorithm, including making predictions, derivative computation, and gradient descent.\n",
    "* Implement computationally efficient, highly vectorized, versions of models.\n",
    "* Understand how to compute derivatives for logistic regression, using a backpropagation mindset.\n",
    "* Become familiar with Python and Numpy\n",
    "* Work with iPython Notebooks\n",
    "* Be able to implement vectorization across multiple training examples"
   ]
  },
  {
   "cell_type": "code",
   "execution_count": null,
   "metadata": {},
   "outputs": [],
   "source": []
  }
 ],
 "metadata": {
  "kernelspec": {
   "display_name": "Python 3",
   "language": "python",
   "name": "python3"
  },
  "language_info": {
   "codemirror_mode": {
    "name": "ipython",
    "version": 3
   },
   "file_extension": ".py",
   "mimetype": "text/x-python",
   "name": "python",
   "nbconvert_exporter": "python",
   "pygments_lexer": "ipython3",
   "version": "3.8.3"
  }
 },
 "nbformat": 4,
 "nbformat_minor": 4
}
