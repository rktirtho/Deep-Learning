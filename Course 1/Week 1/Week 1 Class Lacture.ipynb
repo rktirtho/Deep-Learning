{
 "cells": [
  {
   "cell_type": "markdown",
   "metadata": {},
   "source": [
    "# Week 1 \n",
    "## Introduction to deep learning\n",
    "Be able to explain the major trends driving the rise of deep learning, and understand where and how it is applied today"
   ]
  },
  {
   "cell_type": "markdown",
   "metadata": {},
   "source": [
    "\n",
    "Question 1\n",
    "\n",
    "**What does the analogy “AI is the new electricity” refer to?import**.\n",
    "Similar to electricity starting about 100 years ago, AI is transforming multiple industries.\n",
    "\n",
    "Question 2\n",
    "\n",
    "**Which of these are reasons for Deep Learning recently taking off? (Check the three options that apply.)**\n",
    "- We have access to a lot more computational power. \n",
    "- Deep learning has resulted in significant improvements in important applications such as online advertising, speech recognition, and image recognition. \n",
    "- We have access to a lot more data.\n",
    "\n",
    "Question 3\n",
    "\n",
    "**Recall this diagram of iterating over different ML ideas. Which of the statements below are true? (Check all that apply.)**\n",
    "- Being able to try out ideas quickly allows deep learning engineers to iterate more quickly. \n",
    "- Faster computation can help speed up how long a team takes to iterate to a good idea. \n",
    "- Recent progress in deep learning algorithms has allowed us to train good models faster (even without changing the CPU/GPU hardware). \n",
    "\n",
    "Question 4\n",
    "\n",
    "**When an experienced deep learning engineer works on a new problem, they can usually use insight from previous problems to train a good model on the first try, without needing to iterate multiple times through different models. True/False?**\n",
    "- False\n",
    "\n",
    "Question 5\n",
    "\n",
    "**Which one of these plots represents a ReLU activation function?**\n",
    "- Figure 3\n",
    "\n",
    "Question 6\n",
    "\n",
    "**Images for cat recognition is an example of “structured” data, because it is represented as a structured array in a computer. True/False?**\n",
    "- False\n",
    "\n",
    "Question 7\n",
    "\n",
    "**A demographic dataset with statistics on different cities' population, GDP per capita, economic growth is an example of “unstructured” data because it contains data coming from different sources. True/False?**\n",
    "- False\n",
    "\n",
    "Question 8\n",
    "\n",
    "**Why is an RNN (Recurrent Neural Network) used for machine translation, say translating English to French? (Check all that apply.)**\n",
    "- It can be trained as a supervised learning problem. \n",
    "- It is applicable when the input/output is a sequence (e.g., a sequence of words). \n",
    "\n",
    "Question 9\n",
    "\n",
    "**In this diagram which we hand-drew in lecture, what do the horizontal axis (x-axis) and vertical axis (y-axis) represent?**\n",
    "* x-axis is the amount of data\n",
    "* y-axis (vertical axis) is the performance of the algorithm.\n",
    "\n",
    "Question 10\n",
    "\n",
    "**Assuming the trends described in the previous question's figure are accurate (and hoping you got the axis labels right), which of the following are true? (Check all that apply.)**\n",
    "- Increasing the size of a neural network generally does not hurt an algorithm’s performance, and it may help significantly.\n",
    "- Increasing the training set size generally does not hurt an algorithm’s performance, and it may help significantly. \n",
    "\n"
   ]
  }
 ],
 "metadata": {
  "kernelspec": {
   "display_name": "Python 3",
   "language": "python",
   "name": "python3"
  },
  "language_info": {
   "codemirror_mode": {
    "name": "ipython",
    "version": 3
   },
   "file_extension": ".py",
   "mimetype": "text/x-python",
   "name": "python",
   "nbconvert_exporter": "python",
   "pygments_lexer": "ipython3",
   "version": "3.8.3"
  }
 },
 "nbformat": 4,
 "nbformat_minor": 4
}
